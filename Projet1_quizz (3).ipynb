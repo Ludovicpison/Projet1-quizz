{
 "cells": [
  {
   "cell_type": "code",
   "execution_count": 1,
   "metadata": {},
   "outputs": [
    {
     "name": "stdout",
     "output_type": "stream",
     "text": [
      "Here you have our quiz !\n",
      "-------\n"
     ]
    }
   ],
   "source": [
    "print('Here you have our quiz !')\n",
    "print('-------')\n"
   ]
  },
  {
   "cell_type": "code",
   "execution_count": 2,
   "metadata": {},
   "outputs": [
    {
     "name": "stdin",
     "output_type": "stream",
     "text": [
      "combien font 1+1 ?  3\n"
     ]
    },
    {
     "name": "stdout",
     "output_type": "stream",
     "text": [
      "votre réponse est  3\n"
     ]
    }
   ],
   "source": [
    "reponse_1=input('combien font 1+1 ? ')\n",
    "reponse_1=int(reponse_1) #input retourne un string => pour convertir en nombre, on redéclare la variable en integer : int()\n",
    "print('votre réponse est ' , reponse_1)"
   ]
  },
  {
   "cell_type": "code",
   "execution_count": 3,
   "metadata": {},
   "outputs": [],
   "source": [
    "bonne_R = 2"
   ]
  },
  {
   "cell_type": "code",
   "execution_count": 4,
   "metadata": {},
   "outputs": [
    {
     "name": "stdout",
     "output_type": "stream",
     "text": [
      "Too bad! That is not the correct answer\n"
     ]
    },
    {
     "name": "stdin",
     "output_type": "stream",
     "text": [
      "combien font 1+1 ?  2\n"
     ]
    },
    {
     "name": "stdout",
     "output_type": "stream",
     "text": [
      "Good job! This is the right answer\n"
     ]
    }
   ],
   "source": [
    "while reponse_1 != bonne_R:\n",
    "    print('Too bad! That is not the correct answer')\n",
    "    reponse_1 = input('combien font 1+1 ? ')\n",
    "    reponse_1 = int(reponse_1)\n",
    "else:\n",
    "    print('Good job! This is the right answer')"
   ]
  },
  {
   "cell_type": "code",
   "execution_count": 5,
   "metadata": {},
   "outputs": [
    {
     "name": "stdin",
     "output_type": "stream",
     "text": [
      "Quel est le nom du président français? Ecrivez en majuscule  macron\n"
     ]
    },
    {
     "name": "stdout",
     "output_type": "stream",
     "text": [
      "votre reponse est  macron\n"
     ]
    }
   ],
   "source": [
    "reponse_2=input(\"Quel est le nom du président français? Ecrivez en majuscule \")\n",
    "print('votre reponse est ' , reponse_2)"
   ]
  },
  {
   "cell_type": "code",
   "execution_count": 6,
   "metadata": {},
   "outputs": [],
   "source": [
    "bonne_R2 = \"MACRON\""
   ]
  },
  {
   "cell_type": "code",
   "execution_count": 7,
   "metadata": {},
   "outputs": [
    {
     "name": "stdout",
     "output_type": "stream",
     "text": [
      "Too bad! That is not the correct answer\n"
     ]
    },
    {
     "name": "stdin",
     "output_type": "stream",
     "text": [
      "Quel est le nom du président français? Ecrivez en majuscule  MACRON\n"
     ]
    },
    {
     "name": "stdout",
     "output_type": "stream",
     "text": [
      "votre reponse est  MACRON\n",
      "Good job! This is the right answer\n"
     ]
    }
   ],
   "source": [
    "while reponse_2 != bonne_R2:\n",
    "    print('Too bad! That is not the correct answer')\n",
    "    reponse_2 = input(\"Quel est le nom du président français? Ecrivez en majuscule \")\n",
    "    print('votre reponse est ', reponse_2)\n",
    "else:\n",
    "    print('Good job! This is the right answer')"
   ]
  },
  {
   "cell_type": "code",
   "execution_count": 8,
   "metadata": {},
   "outputs": [
    {
     "name": "stdin",
     "output_type": "stream",
     "text": [
      "Quel est le film d'horreur du jour ? Ecrivez en majuscule  SATAN\n"
     ]
    },
    {
     "name": "stdout",
     "output_type": "stream",
     "text": [
      "votre reponse est  SATAN\n"
     ]
    }
   ],
   "source": [
    "reponse_3=input(\"Quel est le film d'horreur du jour ? Ecrivez en majuscule \")\n",
    "print('votre reponse est ' , reponse_3)"
   ]
  },
  {
   "cell_type": "code",
   "execution_count": 9,
   "metadata": {},
   "outputs": [],
   "source": [
    "bonne_R3 = \"JUPYTER NOTEBOOK\""
   ]
  },
  {
   "cell_type": "code",
   "execution_count": 10,
   "metadata": {},
   "outputs": [
    {
     "name": "stdout",
     "output_type": "stream",
     "text": [
      "Too bad! That is not the correct answer\n"
     ]
    },
    {
     "name": "stdin",
     "output_type": "stream",
     "text": [
      "Quel est le film d'horreur du jour ? Ecrivez en majuscule  JUPYTER NOTEBOOK\n"
     ]
    },
    {
     "name": "stdout",
     "output_type": "stream",
     "text": [
      "votre reponse est  JUPYTER NOTEBOOK\n",
      "Good job! This is the right answer\n"
     ]
    }
   ],
   "source": [
    "while reponse_3 != bonne_R3:\n",
    "    print('Too bad! That is not the correct answer')\n",
    "    reponse_3 = input(\"Quel est le film d'horreur du jour ? Ecrivez en majuscule \")\n",
    "    print('votre reponse est ', reponse_3)\n",
    "else:\n",
    "    print('Good job! This is the right answer')"
   ]
  },
  {
   "cell_type": "code",
   "execution_count": 11,
   "metadata": {},
   "outputs": [
    {
     "name": "stdout",
     "output_type": "stream",
     "text": [
      "Bien joué, c'est fini pour la partie 1\n"
     ]
    }
   ],
   "source": [
    "print(\"Bien joué, c'est fini pour la partie 1\")"
   ]
  },
  {
   "cell_type": "code",
   "execution_count": null,
   "metadata": {},
   "outputs": [],
   "source": []
  }
 ],
 "metadata": {
  "kernelspec": {
   "display_name": "Python 3",
   "language": "python",
   "name": "python3"
  },
  "language_info": {
   "codemirror_mode": {
    "name": "ipython",
    "version": 3
   },
   "file_extension": ".py",
   "mimetype": "text/x-python",
   "name": "python",
   "nbconvert_exporter": "python",
   "pygments_lexer": "ipython3",
   "version": "3.8.6"
  }
 },
 "nbformat": 4,
 "nbformat_minor": 4
}
